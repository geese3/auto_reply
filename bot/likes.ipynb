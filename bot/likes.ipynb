{
 "cells": [
  {
   "cell_type": "code",
   "execution_count": 2,
   "metadata": {},
   "outputs": [
    {
     "name": "stdout",
     "output_type": "stream",
     "text": [
      "Requirement already satisfied: altgraph==0.17.4 in c:\\users\\whdgh\\anaconda3\\envs\\naver\\lib\\site-packages (from -r requirements.txt (line 1)) (0.17.4)\n",
      "Requirement already satisfied: asttokens==2.4.1 in c:\\users\\whdgh\\appdata\\roaming\\python\\python310\\site-packages (from -r requirements.txt (line 2)) (2.4.1)\n",
      "Requirement already satisfied: attrs==23.2.0 in c:\\users\\whdgh\\anaconda3\\envs\\naver\\lib\\site-packages (from -r requirements.txt (line 3)) (23.2.0)\n",
      "Requirement already satisfied: beautifulsoup4==4.12.3 in c:\\users\\whdgh\\anaconda3\\envs\\naver\\lib\\site-packages (from -r requirements.txt (line 4)) (4.12.3)\n",
      "Requirement already satisfied: bs4==0.0.2 in c:\\users\\whdgh\\anaconda3\\envs\\naver\\lib\\site-packages (from -r requirements.txt (line 5)) (0.0.2)\n",
      "Requirement already satisfied: certifi==2024.6.2 in c:\\users\\whdgh\\anaconda3\\envs\\naver\\lib\\site-packages (from -r requirements.txt (line 6)) (2024.6.2)\n",
      "Requirement already satisfied: cffi==1.16.0 in c:\\users\\whdgh\\anaconda3\\envs\\naver\\lib\\site-packages (from -r requirements.txt (line 7)) (1.16.0)\n",
      "Requirement already satisfied: charset-normalizer==3.3.2 in c:\\users\\whdgh\\anaconda3\\envs\\naver\\lib\\site-packages (from -r requirements.txt (line 8)) (3.3.2)\n",
      "Requirement already satisfied: check-chromedriver==2.0.26 in c:\\users\\whdgh\\anaconda3\\envs\\naver\\lib\\site-packages (from -r requirements.txt (line 9)) (2.0.26)\n",
      "Requirement already satisfied: chromedriver-autoinstaller==0.6.2 in c:\\users\\whdgh\\anaconda3\\envs\\naver\\lib\\site-packages (from -r requirements.txt (line 10)) (0.6.2)\n",
      "Requirement already satisfied: colorama==0.4.6 in c:\\users\\whdgh\\appdata\\roaming\\python\\python310\\site-packages (from -r requirements.txt (line 11)) (0.4.6)\n",
      "Requirement already satisfied: comm==0.2.2 in c:\\users\\whdgh\\appdata\\roaming\\python\\python310\\site-packages (from -r requirements.txt (line 12)) (0.2.2)\n",
      "Requirement already satisfied: debugpy==1.8.6 in c:\\users\\whdgh\\appdata\\roaming\\python\\python310\\site-packages (from -r requirements.txt (line 13)) (1.8.6)\n",
      "Requirement already satisfied: decorator==5.1.1 in c:\\users\\whdgh\\appdata\\roaming\\python\\python310\\site-packages (from -r requirements.txt (line 14)) (5.1.1)\n",
      "Requirement already satisfied: exceptiongroup==1.2.2 in c:\\users\\whdgh\\appdata\\roaming\\python\\python310\\site-packages (from -r requirements.txt (line 15)) (1.2.2)\n",
      "Requirement already satisfied: executing==2.0.1 in c:\\users\\whdgh\\appdata\\roaming\\python\\python310\\site-packages (from -r requirements.txt (line 16)) (2.0.1)\n",
      "Requirement already satisfied: h11==0.14.0 in c:\\users\\whdgh\\anaconda3\\envs\\naver\\lib\\site-packages (from -r requirements.txt (line 17)) (0.14.0)\n",
      "Requirement already satisfied: idna==3.7 in c:\\users\\whdgh\\anaconda3\\envs\\naver\\lib\\site-packages (from -r requirements.txt (line 18)) (3.7)\n",
      "Requirement already satisfied: ipykernel==6.29.5 in c:\\users\\whdgh\\appdata\\roaming\\python\\python310\\site-packages (from -r requirements.txt (line 19)) (6.29.5)\n",
      "Requirement already satisfied: ipython==8.28.0 in c:\\users\\whdgh\\appdata\\roaming\\python\\python310\\site-packages (from -r requirements.txt (line 20)) (8.28.0)\n",
      "Requirement already satisfied: ipywidgets==8.1.3 in c:\\users\\whdgh\\anaconda3\\envs\\naver\\lib\\site-packages (from -r requirements.txt (line 21)) (8.1.3)\n",
      "Requirement already satisfied: jedi==0.19.1 in c:\\users\\whdgh\\appdata\\roaming\\python\\python310\\site-packages (from -r requirements.txt (line 22)) (0.19.1)\n",
      "Requirement already satisfied: jupyter_client==8.6.3 in c:\\users\\whdgh\\appdata\\roaming\\python\\python310\\site-packages (from -r requirements.txt (line 23)) (8.6.3)\n",
      "Requirement already satisfied: jupyter_core==5.7.2 in c:\\users\\whdgh\\appdata\\roaming\\python\\python310\\site-packages (from -r requirements.txt (line 24)) (5.7.2)\n",
      "Requirement already satisfied: jupyterlab_widgets==3.0.11 in c:\\users\\whdgh\\anaconda3\\envs\\naver\\lib\\site-packages (from -r requirements.txt (line 25)) (3.0.11)\n",
      "Requirement already satisfied: matplotlib-inline==0.1.7 in c:\\users\\whdgh\\appdata\\roaming\\python\\python310\\site-packages (from -r requirements.txt (line 26)) (0.1.7)\n",
      "Requirement already satisfied: nest-asyncio==1.6.0 in c:\\users\\whdgh\\appdata\\roaming\\python\\python310\\site-packages (from -r requirements.txt (line 27)) (1.6.0)\n",
      "Requirement already satisfied: outcome==1.3.0.post0 in c:\\users\\whdgh\\anaconda3\\envs\\naver\\lib\\site-packages (from -r requirements.txt (line 28)) (1.3.0.post0)\n",
      "Requirement already satisfied: packaging==24.1 in c:\\users\\whdgh\\appdata\\roaming\\python\\python310\\site-packages (from -r requirements.txt (line 29)) (24.1)\n",
      "Requirement already satisfied: parso==0.8.4 in c:\\users\\whdgh\\appdata\\roaming\\python\\python310\\site-packages (from -r requirements.txt (line 30)) (0.8.4)\n",
      "Requirement already satisfied: pefile==2023.2.7 in c:\\users\\whdgh\\anaconda3\\envs\\naver\\lib\\site-packages (from -r requirements.txt (line 31)) (2023.2.7)\n",
      "Requirement already satisfied: platformdirs==4.3.6 in c:\\users\\whdgh\\appdata\\roaming\\python\\python310\\site-packages (from -r requirements.txt (line 32)) (4.3.6)\n",
      "Requirement already satisfied: prompt_toolkit==3.0.48 in c:\\users\\whdgh\\appdata\\roaming\\python\\python310\\site-packages (from -r requirements.txt (line 33)) (3.0.48)\n",
      "Requirement already satisfied: psutil==6.0.0 in c:\\users\\whdgh\\appdata\\roaming\\python\\python310\\site-packages (from -r requirements.txt (line 34)) (6.0.0)\n",
      "Requirement already satisfied: pure_eval==0.2.3 in c:\\users\\whdgh\\appdata\\roaming\\python\\python310\\site-packages (from -r requirements.txt (line 35)) (0.2.3)\n",
      "Requirement already satisfied: pycparser==2.22 in c:\\users\\whdgh\\anaconda3\\envs\\naver\\lib\\site-packages (from -r requirements.txt (line 36)) (2.22)\n",
      "Requirement already satisfied: Pygments==2.18.0 in c:\\users\\whdgh\\appdata\\roaming\\python\\python310\\site-packages (from -r requirements.txt (line 37)) (2.18.0)\n",
      "Requirement already satisfied: pyinstaller==6.8.0 in c:\\users\\whdgh\\anaconda3\\envs\\naver\\lib\\site-packages (from -r requirements.txt (line 38)) (6.8.0)\n",
      "Requirement already satisfied: pyinstaller-hooks-contrib==2024.7 in c:\\users\\whdgh\\anaconda3\\envs\\naver\\lib\\site-packages (from -r requirements.txt (line 39)) (2024.7)\n",
      "Requirement already satisfied: pyperclip==1.8.2 in c:\\users\\whdgh\\anaconda3\\envs\\naver\\lib\\site-packages (from -r requirements.txt (line 40)) (1.8.2)\n",
      "Requirement already satisfied: PySocks==1.7.1 in c:\\users\\whdgh\\anaconda3\\envs\\naver\\lib\\site-packages (from -r requirements.txt (line 41)) (1.7.1)\n",
      "Requirement already satisfied: python-dateutil==2.9.0.post0 in c:\\users\\whdgh\\appdata\\roaming\\python\\python310\\site-packages (from -r requirements.txt (line 42)) (2.9.0.post0)\n",
      "Requirement already satisfied: python-dotenv==1.0.1 in c:\\users\\whdgh\\anaconda3\\envs\\naver\\lib\\site-packages (from -r requirements.txt (line 43)) (1.0.1)\n",
      "Requirement already satisfied: pywin32==306 in c:\\users\\whdgh\\appdata\\roaming\\python\\python310\\site-packages (from -r requirements.txt (line 44)) (306)\n",
      "Requirement already satisfied: pywin32-ctypes==0.2.2 in c:\\users\\whdgh\\anaconda3\\envs\\naver\\lib\\site-packages (from -r requirements.txt (line 45)) (0.2.2)\n",
      "Requirement already satisfied: pyzmq==26.2.0 in c:\\users\\whdgh\\appdata\\roaming\\python\\python310\\site-packages (from -r requirements.txt (line 46)) (26.2.0)\n",
      "Requirement already satisfied: requests==2.32.3 in c:\\users\\whdgh\\anaconda3\\envs\\naver\\lib\\site-packages (from -r requirements.txt (line 47)) (2.32.3)\n",
      "Requirement already satisfied: selenium==4.20.0 in c:\\users\\whdgh\\anaconda3\\envs\\naver\\lib\\site-packages (from -r requirements.txt (line 48)) (4.20.0)\n",
      "Requirement already satisfied: selenium-stealth==1.0.6 in c:\\users\\whdgh\\anaconda3\\envs\\naver\\lib\\site-packages (from -r requirements.txt (line 49)) (1.0.6)\n",
      "Requirement already satisfied: six==1.16.0 in c:\\users\\whdgh\\appdata\\roaming\\python\\python310\\site-packages (from -r requirements.txt (line 50)) (1.16.0)\n",
      "Requirement already satisfied: sniffio==1.3.1 in c:\\users\\whdgh\\anaconda3\\envs\\naver\\lib\\site-packages (from -r requirements.txt (line 51)) (1.3.1)\n",
      "Requirement already satisfied: sortedcontainers==2.4.0 in c:\\users\\whdgh\\anaconda3\\envs\\naver\\lib\\site-packages (from -r requirements.txt (line 52)) (2.4.0)\n",
      "Requirement already satisfied: soupsieve==2.5 in c:\\users\\whdgh\\anaconda3\\envs\\naver\\lib\\site-packages (from -r requirements.txt (line 53)) (2.5)\n",
      "Requirement already satisfied: stack-data==0.6.3 in c:\\users\\whdgh\\appdata\\roaming\\python\\python310\\site-packages (from -r requirements.txt (line 54)) (0.6.3)\n",
      "Requirement already satisfied: tornado==6.4.1 in c:\\users\\whdgh\\appdata\\roaming\\python\\python310\\site-packages (from -r requirements.txt (line 55)) (6.4.1)\n",
      "Requirement already satisfied: traitlets==5.14.3 in c:\\users\\whdgh\\appdata\\roaming\\python\\python310\\site-packages (from -r requirements.txt (line 56)) (5.14.3)\n",
      "Requirement already satisfied: trio==0.25.1 in c:\\users\\whdgh\\anaconda3\\envs\\naver\\lib\\site-packages (from -r requirements.txt (line 57)) (0.25.1)\n",
      "Requirement already satisfied: trio-websocket==0.11.1 in c:\\users\\whdgh\\anaconda3\\envs\\naver\\lib\\site-packages (from -r requirements.txt (line 58)) (0.11.1)\n",
      "Requirement already satisfied: typing_extensions==4.12.2 in c:\\users\\whdgh\\appdata\\roaming\\python\\python310\\site-packages (from -r requirements.txt (line 59)) (4.12.2)\n",
      "Requirement already satisfied: urllib3==2.2.2 in c:\\users\\whdgh\\anaconda3\\envs\\naver\\lib\\site-packages (from -r requirements.txt (line 60)) (2.2.2)\n",
      "Requirement already satisfied: wcwidth==0.2.13 in c:\\users\\whdgh\\appdata\\roaming\\python\\python310\\site-packages (from -r requirements.txt (line 61)) (0.2.13)\n",
      "Requirement already satisfied: webdriver-manager==4.0.2 in c:\\users\\whdgh\\anaconda3\\envs\\naver\\lib\\site-packages (from -r requirements.txt (line 62)) (4.0.2)\n",
      "Requirement already satisfied: widgetsnbextension==4.0.11 in c:\\users\\whdgh\\anaconda3\\envs\\naver\\lib\\site-packages (from -r requirements.txt (line 63)) (4.0.11)\n",
      "Requirement already satisfied: wsproto==1.2.0 in c:\\users\\whdgh\\anaconda3\\envs\\naver\\lib\\site-packages (from -r requirements.txt (line 64)) (1.2.0)\n",
      "Requirement already satisfied: setuptools>=42.0.0 in c:\\users\\whdgh\\anaconda3\\envs\\naver\\lib\\site-packages (from pyinstaller==6.8.0->-r requirements.txt (line 38)) (72.1.0)\n"
     ]
    }
   ],
   "source": [
    "!pip install -r requirements.txt"
   ]
  },
  {
   "cell_type": "code",
   "execution_count": 3,
   "metadata": {},
   "outputs": [
    {
     "data": {
      "text/plain": [
       "defaultdict(str,\n",
       "            {'PM_CK_loc': '42e236690a3f3f48c140f7ca685eee751edecd0b84188b54933c2058b84c4c52',\n",
       "             'NID_JKL': 'uwofZTH0oh9NSydh7FQnHjOWl9ag9bVwtdtZF5XpfwE=',\n",
       "             'nid_inf': '290552688',\n",
       "             'NID_SES': 'AAABqczqC23s75h4THo/3MO6CiWpE3AKBbJPyCSyM2f+37Y0jy0j5fXhzgJuqYUoQ9mxvrD10DqQgwKzyh/Nw4bFf1pP3j7idWEyZ4Qk1Y4ZNqZbRhotGvFCCDESABwNj2oXermauDfxczXBh+ByimVkeWjGjR4XQpYOWn5o5YH3wWh9np/NM7mvzXYgcOSMIDy8ykhwc11XwygWKBngLHtMf1pXXaMsy/0eq7RLXNIdDI32YVmJcxrCDrCOc9FJqA7nPr2w44L2qFOQQQxBf0nsh9i0mq+WJ+CfYq1zxuMTnYulbOgn00xzHkDjle74TVb/+wb2dSy30fRuOEINg+MV+YeqWB16WnYntlQ8J09jGsEO68SPmZ0qeYJQXlaKoF/5xpcw+3WLmugTJiieYaCwCaLkpbhbXlUeFFPkTuTWPBXl668ZlmTgh1+b1xo3IYtuUbmwJtXOSfhpCgw6YJu8ylpyG5dRipxkrDrB1Lsbl5SnIceunShptggv8rFBo+DE1lVmx35xhYQUpbWs6hQY7pVVSWNSkggz8zoLu6Au+aYVhgL0vmEmkXpAjjtY0xipuw==',\n",
       "             'NID_AUT': '8KeJlbm1xaucahrO0r+UMA4iAU3EwYXKNBjP5iL/Nf1kV+d6NgX7tEzIOqfXW4e+',\n",
       "             'NACT': '1',\n",
       "             'NAC': 'aCr1BUg8JsXp',\n",
       "             'BUC': 'y03MQ9z7LNTU2lWTRzeJKGccKAsH_dNRwcrHRAkfNKA=',\n",
       "             'NNB': 'BGLVVENYUQLWO'})"
      ]
     },
     "execution_count": 3,
     "metadata": {},
     "output_type": "execute_result"
    }
   ],
   "source": [
    "from bot import NaverBot\n",
    "bot = NaverBot(id='ds778612', pw='Timlee230.')\n",
    "bot.login_naver()\n",
    "cookies = bot.naver_cookie\n",
    "cookies"
   ]
  },
  {
   "cell_type": "markdown",
   "metadata": {},
   "source": [
    "### guestToken 받기"
   ]
  },
  {
   "cell_type": "code",
   "execution_count": 11,
   "metadata": {},
   "outputs": [
    {
     "name": "stdout",
     "output_type": "stream",
     "text": [
      "Like reaction successful. res: 공감가 되었습니다.\n"
     ]
    },
    {
     "ename": "",
     "evalue": "",
     "output_type": "error",
     "traceback": [
      "\u001b[1;31mThe Kernel crashed while executing code in the current cell or a previous cell. \n",
      "\u001b[1;31mPlease review the code in the cell(s) to identify a possible cause of the failure. \n",
      "\u001b[1;31mClick <a href='https://aka.ms/vscodeJupyterKernelCrash'>here</a> for more info. \n",
      "\u001b[1;31mView Jupyter <a href='command:jupyter.viewOutput'>log</a> for further details."
     ]
    }
   ],
   "source": [
    "import requests\n",
    "\n",
    "def get_timestamp_and_guest_token(blog_id, blog_post_id, cookies):\n",
    "    try:\n",
    "        # Define the URL\n",
    "        url = \"https://apis.naver.com/blogserver/like/v1/search/contents\"\n",
    "\n",
    "        # Define the query parameters\n",
    "        params = {\n",
    "            'suppress_response_codes': 'true',\n",
    "            'pool': 'blogid',\n",
    "            'q': f'BLOG[{blog_id}_{blog_post_id}]',\n",
    "            'isDuplication': 'true',\n",
    "            'cssIds': 'BASIC_MOBILE,BLOG_MOBILE',\n",
    "        }\n",
    "\n",
    "        # Define the headers\n",
    "        headers = {\n",
    "            'accept': '*/*',\n",
    "            'accept-encoding': 'gzip, deflate, br, zstd',\n",
    "            'accept-language': 'ko-KR,ko;q=0.9,en-US;q=0.8,en;q=0.7',\n",
    "            'referer': 'https://m.blog.naver.com/PostView.naver',\n",
    "            'sec-ch-ua': '\"Google Chrome\";v=\"129\", \"Not=A?Brand\";v=\"8\", \"Chromium\";v=\"129\"',\n",
    "            'sec-ch-ua-mobile': '?0',\n",
    "            'sec-ch-ua-platform': '\"Windows\"',\n",
    "            'sec-fetch-dest': 'script',\n",
    "            'sec-fetch-mode': 'no-cors',\n",
    "            'sec-fetch-site': 'same-site',\n",
    "            'user-agent': 'Mozilla/5.0 (Windows NT 10.0; Win64; x64) AppleWebKit/537.36 (KHTML, like Gecko) Chrome/129.0.0.0 Safari/537.36'\n",
    "        }\n",
    "\n",
    "        # Send the GET request with headers and cookies\n",
    "        token_response = requests.get(url, params=params, headers=headers, cookies=cookies)\n",
    "\n",
    "        # Check if the request was successful\n",
    "        token_response.raise_for_status()\n",
    "\n",
    "        # Extract the timestamp and guestToken\n",
    "        timestamp = token_response.json().get('timestamp')\n",
    "        guest_token = token_response.json().get('guestToken')\n",
    "\n",
    "        if timestamp and guest_token:\n",
    "            return timestamp, guest_token\n",
    "        else:\n",
    "            raise KeyError(\"Timestamp or guestToken not found in response.\")\n",
    "\n",
    "    except requests.exceptions.RequestException as e:\n",
    "        print(f\"Error fetching timestamp and guestToken: {e}\")\n",
    "        return None, None\n",
    "    except KeyError as e:\n",
    "        print(f\"Error: {e}\")\n",
    "        return None, None\n",
    "    \n",
    "\n",
    "def send_like_reaction(blog_id, blog_post_id, timestamp, guest_token, cookies):\n",
    "    try:\n",
    "        # Define the URL\n",
    "        url = f\"https://apis.naver.com/blogserver/like/v1/services/BLOG/contents/{blog_id}_{blog_post_id}\"\n",
    "\n",
    "        # Define the query parameters\n",
    "        params = {\n",
    "            'suppress_response_codes': 'true',\n",
    "            '_method': 'POST',\n",
    "            'pool': 'blogid',\n",
    "            'displayId': 'BLOG',\n",
    "            'reactionType': 'like',\n",
    "            'categoryId': 'post',\n",
    "            'guestToken': guest_token,\n",
    "            'timestamp': timestamp,\n",
    "            '_ch': 'mbw',\n",
    "            'isDuplication': 'true',\n",
    "            'lang': 'ko',\n",
    "            'countType': 'default',\n",
    "            'count': '1',\n",
    "            'history': '',\n",
    "            'runtimeStatus': '',\n",
    "            'isPostTimeline': 'false',\n",
    "            '_': timestamp\n",
    "        }\n",
    "\n",
    "        # Define the headers\n",
    "        headers = {\n",
    "            'accept': '*/*',\n",
    "            'accept-encoding': 'gzip, deflate, br, zstd',\n",
    "            'accept-language': 'ko-KR,ko;q=0.9,en-US;q=0.8,en;q=0.7',\n",
    "            'referer': 'https://m.blog.naver.com/PostView.naver',\n",
    "            'sec-ch-ua': '\"Google Chrome\";v=\"129\", \"Not=A?Brand\";v=\"8\", \"Chromium\";v=\"129\"',\n",
    "            'sec-ch-ua-mobile': '?0',\n",
    "            'sec-ch-ua-platform': '\"Windows\"',\n",
    "            'sec-fetch-dest': 'script',\n",
    "            'sec-fetch-mode': 'no-cors',\n",
    "            'sec-fetch-site': 'same-site',\n",
    "            'user-agent': 'Mozilla/5.0 (Windows NT 10.0; Win64; x64) AppleWebKit/537.36 (KHTML, like Gecko) Chrome/129.0.0.0 Safari/537.36'\n",
    "        }\n",
    "\n",
    "        # Send the GET request with cookies\n",
    "        response = requests.get(url, params=params, headers=headers, cookies=cookies)\n",
    "\n",
    "        # Check if the request was successful\n",
    "        response.raise_for_status()\n",
    "\n",
    "        # Extract and return the message from the response\n",
    "        res = response.json()\n",
    "        return res\n",
    "\n",
    "    except requests.exceptions.RequestException as e:\n",
    "        print(f\"Error sending like reaction: {e}\")\n",
    "        return None\n",
    "    except KeyError:\n",
    "        print(\"Error: message not found in response.\")\n",
    "        return None\n",
    "\n",
    "\n",
    "# Define your blog and post IDs\n",
    "blog_id = \"insik_an\"\n",
    "blog_post_id = \"223476868488\"\n",
    "\n",
    "# Step 1: Get timestamp and guest token\n",
    "timestamp, guest_token = get_timestamp_and_guest_token(blog_id, blog_post_id, cookies)\n",
    "\n",
    "if timestamp and guest_token:\n",
    "    # Step 2: Send the like reaction using the token\n",
    "    res = send_like_reaction(blog_id, blog_post_id, timestamp, guest_token, cookies)\n",
    "    if res:\n",
    "        msg = res['message']\n",
    "        print(f\"Like reaction successful. res: {msg}\")\n",
    "    else:\n",
    "        print(f\"Like reaction failed\")\n",
    "else:\n",
    "    print(\"Failed to retrieve timestamp and guest token.\")\n"
   ]
  },
  {
   "cell_type": "code",
   "execution_count": 23,
   "metadata": {},
   "outputs": [
    {
     "data": {
      "text/plain": [
       "{'serviceId': 'BLOG',\n",
       " 'displayId': 'BLOG',\n",
       " 'contentsId': 'eerony_223545791983',\n",
       " 'message': '공감가 되었습니다.',\n",
       " 'categoryId': 'post',\n",
       " 'reactionType': 'like',\n",
       " 'count': 8,\n",
       " 'isReacted': True,\n",
       " 'countType': 'DEFAULT',\n",
       " 'nolimitUserCount': 0}"
      ]
     },
     "execution_count": 23,
     "metadata": {},
     "output_type": "execute_result"
    }
   ],
   "source": [
    "res"
   ]
  },
  {
   "cell_type": "code",
   "execution_count": null,
   "metadata": {},
   "outputs": [],
   "source": []
  },
  {
   "cell_type": "code",
   "execution_count": null,
   "metadata": {},
   "outputs": [],
   "source": []
  },
  {
   "cell_type": "code",
   "execution_count": null,
   "metadata": {},
   "outputs": [],
   "source": []
  }
 ],
 "metadata": {
  "kernelspec": {
   "display_name": "naver",
   "language": "python",
   "name": "python3"
  },
  "language_info": {
   "codemirror_mode": {
    "name": "ipython",
    "version": 3
   },
   "file_extension": ".py",
   "mimetype": "text/x-python",
   "name": "python",
   "nbconvert_exporter": "python",
   "pygments_lexer": "ipython3",
   "version": "3.10.14"
  }
 },
 "nbformat": 4,
 "nbformat_minor": 2
}
