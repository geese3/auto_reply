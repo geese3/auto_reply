{
 "cells": [
  {
   "cell_type": "markdown",
   "metadata": {},
   "source": [
    "# cbox_token 받아오기"
   ]
  },
  {
   "cell_type": "code",
   "execution_count": 1,
   "metadata": {},
   "outputs": [
    {
     "data": {
      "text/plain": [
       "defaultdict(str,\n",
       "            {'PM_CK_loc': '42e236690a3f3f48c140f7ca685eee751edecd0b84188b54933c2058b84c4c52',\n",
       "             'NID_JKL': 'wtAgAkkaymcgnCpkDNou18PkRt94bwrS6bS3aJEiVOg=',\n",
       "             'nid_inf': '290551059',\n",
       "             'NID_SES': 'AAABpWOR9+xoCMVeBzEox4yVgMhGmzFSIjAbzdQ3SVtNSYcdZrTsJTqELz7cjaiQ4j5iEWrPBZFqyIPZAw0V/Ox7+7+DWwVQJzqIEpMxiLw3YwVPMl6DwBmgK4JXzrQF4x3wT0c3dW6/4CHxAwF1W3SF5doMQNNPSRbshVg+BTMgVPvrrBKml4nytf6DUNX4qyRmq8lOE1ueV0+NGBK73cH3L2/uj7PMoJVERavpPNB3l0VUtsKWWqm+NsXETmSoP3Ojc59kvXNtySgEA85liFwH9IP24msnQSNzJEo1Ove9ZyBW2Cn6TJIwizbZQWc9wvUWEGZjYLo/UrBImNp2OoCV5kql0/rM9w06TDCwnFUccafPO5pqcWSMKUgfhbgPIfNo7Ew6ksDGIGI+hl0jGrJF4azKKtT+qt3A6oo1NnVEC+j1agzWmamEk0Ka6/MphN0D9knz4yqyjs9vHeUyxohKbEZO54kTCYW5joh6IA1lm1IB+oVQ0SPJJ1GxgAbjwhv3CI9C+tl9rYpYD3Jla3ZrOl4BJIVb90glzxj3kliUhAk/ZzFaO3OqaBDt5xc1/Vrl/g==',\n",
       "             'NACT': '1',\n",
       "             'NID_AUT': 'iVING/VDzpZoDQz1fQ3obEonBhSpFLjKyBZYOlTqZ1PLmbojQCiSij2L5uY2B6Wp',\n",
       "             'NNB': 'NLLON6TOUULWO',\n",
       "             'NAC': 'uIzeCoA5ZgIkA'})"
      ]
     },
     "execution_count": 1,
     "metadata": {},
     "output_type": "execute_result"
    }
   ],
   "source": [
    "from bot import NaverBot\n",
    "\n",
    "bot = NaverBot(id='ds778612', pw='Timlee230.')\n",
    "bot.login_naver()\n",
    "cookies = bot.naver_cookie\n",
    "cookies"
   ]
  },
  {
   "cell_type": "code",
   "execution_count": 30,
   "metadata": {},
   "outputs": [
    {
     "name": "stdout",
     "output_type": "stream",
     "text": [
      "https://m.blog.naver.com/CommentList.naver?blogId=eerony&logNo=223621827803\n",
      "Response status code: 200\n",
      "Response text: {\"code\":\"1000\",\"country\":\"KR\",\"date\":\"2024-10-22T13:40:03+0000\",\"lang\":\"ko\",\"message\":\"요청을 성공적으로 처리하였습니다.\",\"result\":{\"commentList\":[{\"ticket\":\"blog\",\"objectId\":\"154352947_201_223621827803\",\"categoryId\":\"*\",\"templateId\":\"default\",\"commentNo\":\"840653523342327825\",\"parentCommentNo\":\"840653523342327825\",\"replyLevel\":1,\"replyCount\":0,\"replyAllCount\":0,\"replyPreviewNo\":null,\"replyList\":null,\"imageCount\":0,\"imageList\":null,\"imagePathList\":null,\"imageWidthList\":null,\"imageHeightList\":null,\"commentType\":\"txt\",\"stickerId\":null,\"sticker\":null,\"sortValue\":1729604403850,\"contents\":\"저도 포스팅 잘 보고 갑니다 :) 방문해주셔서 감사합니다!\",\"userIdNo\":\"\",\"exposedUserIp\":null,\"lang\":\"ko\",\"country\":\"KR\",\"idType\":\"naver\",\"idProvider\":\"naver\",\"userName\":\"대한광고\",\"userProfileImage\":\"https://blogpfthumb-phinf.pstatic.net/MjAyNDA2MjdfMzcg/MDAxNzE5NDk1NDA1NTI4.bYXlOXLkjJVFzhIx8UOQ-6pxtkqwTvKiE6DLtTPTl40g.oh_FUgKbEtCT-7_Ndo0l_H7Md-ZS5Jys2FMCaTK6bPIg.PNG/%EC%A0%9C%EB%AA%A9%EC%9D%84_%EC%9E%85%EB%A0%A5%ED%95%B4%EC%A3%BC%EC%84%B8%EC%9A%94_-001.png/%25EC%25A0%259C%25EB%25AA%25A9%25EC%259D%2584%2B%25EC%259E%2585%25EB%25A0%25A5%25ED%2595%25B4%25EC%25A3%25BC%25EC%2584%25B8%25EC%259A%2594_-001.png\",\"profileType\":\"profile\",\"modTime\":\"2024-10-22T22:40:04+0900\",\"modTimeGmt\":\"2024-10-22T13:40:04+0000\",\"regTime\":\"2024-10-22T22:40:04+0900\",\"regTimeGmt\":\"2024-10-22T13:40:04+0000\",\"sympathyCount\":0,\"antipathyCount\":0,\"hideReplyButton\":false,\"status\":0,\"mine\":true,\"best\":false,\"mentions\":null,\"toUser\":null,\"userStatus\":0,\"categoryImage\":null,\"open\":false,\"levelCode\":null,\"grades\":null,\"sympathy\":false,\"antipathy\":false,\"metaInfo\":null,\"extension\":null,\"translation\":null,\"report\":null,\"middleBlindReport\":false,\"spamInfo\":null,\"userHomepageUrl\":null,\"defamation\":false,\"hiddenByCleanbot\":false,\"score\":0.0,\"ratings\":null,\"following\":false,\"managerLike\":false,\"pick\":false,\"attachmentList\":null,\"managerActionWrapper\":null,\"reference\":null,\"inspectionId\":null,\"userReplied\":null,\"shareCommentLink\":null,\"shareCommentUserName\":\"대한광고\",\"visible\":true,\"blindReport\":false,\"deleted\":false,\"expose\":true,\"idNo\":\"\",\"manager\":false,\"userBlocked\":false,\"validateBanWords\":false,\"profileUserId\":\"deahan_5677\",\"serviceId\":null,\"chattingBridge\":false,\"maskedUserId\":\"ds77****\",\"replyNotificationSet\":\"UNSET\",\"blind\":false,\"maskedUserName\":\"대한****\",\"secret\":false,\"exposeByCountry\":false,\"containText\":true,\"attachmentCount\":0,\"virtual\":false,\"originalStatus\":0,\"anonymous\":false},{\"ticket\":\"blog\",\"objectId\":\"154352947_201_223621827803\",\"categoryId\":\"*\",\"templateId\":\"default\",\"commentNo\":\"840165156519412039\",\"parentCommentNo\":\"840165156519412039\",\"replyLevel\":1,\"replyCount\":0,\"replyAllCount\":0,\"replyPreviewNo\":null,\"replyList\":null,\"imageCount\":0,\"imageList\":null,\"imagePathList\":null,\"imageWidthList\":null,\"imageHeightList\":null,\"commentType\":\"txt\",\"stickerId\":null,\"sticker\":null,\"sortValue\":1729149576589,\"contents\":\"갓생종구님\\r<br>이건 몰랐던 얘기인데 \\r<br>도움얻고갑니다!\\r<br>앞으로 주기적으로 소통하고싶어용!!\\r<br>공감꾹!! 제 블로그도 구경해주시면 감사하겠습니당'◡'✿\",\"userIdNo\":\"\",\"exposedUserIp\":null,\"lang\":\"ko\",\"country\":\"KR\",\"idType\":\"naver\",\"idProvider\":\"naver\",\"userName\":\"솔냥\",\"userProfileImage\":\"https://blogpfthumb-phinf.pstatic.net/MjAyNDA1MjlfMjc5/MDAxNzE2OTY1NTE1MjQz.TDcSbj5lIlgHxKRXNoCgNWuALjVw3S6kNH1ciTy3Kpsg.oib5s9_nJ4wye5Bqle-4cYKyGvKJ-OaovZBA7HR_AS0g.JPEG/KakaoTalk_20240529_151420823.jpg/KakaoTalk_20240529_151420823.jpg\",\"profileType\":\"profile\",\"modTime\":\"2024-10-17T16:19:37+0900\",\"modTimeGmt\":\"2024-10-17T07:19:37+0000\",\"regTime\":\"2024-10-17T16:19:37+0900\",\"regTimeGmt\":\"2024-10-17T07:19:37+0000\",\"sympathyCount\":0,\"antipathyCount\":0,\"hideReplyButton\":false,\"status\":0,\"mine\":false,\"best\":false,\"mentions\":null,\"toUser\":null,\"userStatus\":0,\"categoryImage\":null,\"open\":false,\"levelCode\":null,\"grades\":null,\"sympathy\":false,\"antipathy\":false,\"metaInfo\":null,\"extension\":null,\"translation\":null,\"report\":null,\"middleBlindReport\":false,\"spamInfo\":null,\"userHomepageUrl\":null,\"defamation\":false,\"hiddenByCleanbot\":false,\"score\":0.0,\"ratings\":null,\"following\":false,\"managerLike\":false,\"pick\":false,\"attachmentList\":null,\"managerActionWrapper\":null,\"reference\":null,\"inspectionId\":null,\"userReplied\":null,\"shareCommentLink\":null,\"shareCommentUserName\":\"솔냥\",\"visible\":true,\"blindReport\":false,\"deleted\":false,\"expose\":true,\"idNo\":\"\",\"manager\":false,\"userBlocked\":false,\"validateBanWords\":false,\"profileUserId\":\"solah0608\",\"serviceId\":null,\"chattingBridge\":false,\"maskedUserId\":\"sola****\",\"replyNotificationSet\":\"UNSET\",\"blind\":false,\"maskedUserName\":\"솔냥****\",\"secret\":false,\"exposeByCountry\":false,\"containText\":true,\"attachmentCount\":0,\"virtual\":false,\"originalStatus\":0,\"anonymous\":false}],\"pageModel\":{\"page\":1,\"pageSize\":100,\"indexSize\":10,\"startRow\":1,\"endRow\":2,\"totalRows\":2,\"startIndex\":0,\"totalPages\":1,\"firstPage\":1,\"prevPage\":0,\"nextPage\":0,\"lastPage\":1,\"current\":null,\"threshold\":null,\"moveToLastPage\":false,\"moveToComment\":false,\"moveToLastPrev\":false},\"morePage\":{\"prev\":\"06dxesx7398291rorlplvz50by\",\"next\":\"06dslowkq5e871rowetmic8u60\",\"start\":null,\"end\":null},\"count\":{\"comment\":2,\"reply\":0,\"exposeCount\":2,\"delCommentByUser\":0,\"delCommentByMon\":0,\"blindCommentByUser\":0,\"blindReplyByUser\":0,\"total\":2},\"comment\":{\"ticket\":\"blog\",\"objectId\":\"154352947_201_223621827803\",\"categoryId\":\"*\",\"templateId\":\"default\",\"commentNo\":\"840653523342327825\",\"parentCommentNo\":\"840653523342327825\",\"replyLevel\":1,\"replyCount\":0,\"replyAllCount\":0,\"replyPreviewNo\":null,\"replyList\":null,\"imageCount\":0,\"imageList\":null,\"imagePathList\":null,\"imageWidthList\":null,\"imageHeightList\":null,\"commentType\":\"txt\",\"stickerId\":null,\"sticker\":null,\"sortValue\":1729604403850,\"contents\":\"저도 포스팅 잘 보고 갑니다 :) 방문해주셔서 감사합니다!\",\"userIdNo\":\"\",\"exposedUserIp\":null,\"lang\":\"ko\",\"country\":\"KR\",\"idType\":\"naver\",\"idProvider\":\"naver\",\"userName\":\"대한광고\",\"userProfileImage\":\"https://blogpfthumb-phinf.pstatic.net/MjAyNDA2MjdfMzcg/MDAxNzE5NDk1NDA1NTI4.bYXlOXLkjJVFzhIx8UOQ-6pxtkqwTvKiE6DLtTPTl40g.oh_FUgKbEtCT-7_Ndo0l_H7Md-ZS5Jys2FMCaTK6bPIg.PNG/%EC%A0%9C%EB%AA%A9%EC%9D%84_%EC%9E%85%EB%A0%A5%ED%95%B4%EC%A3%BC%EC%84%B8%EC%9A%94_-001.png/%25EC%25A0%259C%25EB%25AA%25A9%25EC%259D%2584%2B%25EC%259E%2585%25EB%25A0%25A5%25ED%2595%25B4%25EC%25A3%25BC%25EC%2584%25B8%25EC%259A%2594_-001.png\",\"profileType\":\"profile\",\"modTime\":\"2024-10-22T22:40:04+0900\",\"modTimeGmt\":\"2024-10-22T13:40:04+0000\",\"regTime\":\"2024-10-22T22:40:04+0900\",\"regTimeGmt\":\"2024-10-22T13:40:04+0000\",\"sympathyCount\":0,\"antipathyCount\":0,\"hideReplyButton\":false,\"status\":0,\"mine\":true,\"best\":false,\"mentions\":{},\"toUser\":null,\"userStatus\":0,\"categoryImage\":null,\"open\":false,\"levelCode\":null,\"grades\":null,\"sympathy\":false,\"antipathy\":false,\"metaInfo\":null,\"extension\":null,\"translation\":null,\"report\":null,\"middleBlindReport\":false,\"spamInfo\":null,\"userHomepageUrl\":null,\"defamation\":false,\"hiddenByCleanbot\":false,\"score\":0.0,\"ratings\":null,\"following\":false,\"managerLike\":false,\"pick\":false,\"attachmentList\":null,\"managerActionWrapper\":null,\"reference\":null,\"inspectionId\":null,\"userReplied\":null,\"shareCommentLink\":null,\"shareCommentUserName\":\"대한광고\",\"visible\":true,\"blindReport\":false,\"deleted\":false,\"expose\":true,\"idNo\":\"\",\"manager\":false,\"userBlocked\":false,\"validateBanWords\":false,\"profileUserId\":\"deahan_5677\",\"serviceId\":null,\"chattingBridge\":false,\"maskedUserId\":\"ds77****\",\"replyNotificationSet\":\"UNSET\",\"blind\":false,\"maskedUserName\":\"대한****\",\"secret\":false,\"exposeByCountry\":false,\"containText\":true,\"attachmentCount\":0,\"virtual\":false,\"originalStatus\":0,\"anonymous\":false},\"sort\":\"REVERSE_NEW\",\"bestList\":[]},\"success\":true}\n"
     ]
    }
   ],
   "source": [
    "import requests\n",
    "import re\n",
    "\n",
    "def _get_cbox_token(cookies, blog_post_id):\n",
    "    try:\n",
    "        # Define the URL\n",
    "        url = \"https://apis.naver.com/commentBox/cbox/web_naver_token_jsonp.json\"\n",
    "\n",
    "        # Define the query parameters\n",
    "        params = {\n",
    "            'ticket': 'blog',\n",
    "            'templateId': 'default',\n",
    "            'pool': 'blogid',\n",
    "            'lang': 'ko',\n",
    "            'country': '',\n",
    "            'objectId': f'154352947_201_{blog_post_id}',\n",
    "            '_cv': '20240923174033',\n",
    "            'categoryId': '',\n",
    "            'groupId': '154352947',\n",
    "        }\n",
    "\n",
    "        # Define the headers\n",
    "        headers = {\n",
    "            'accept': '*/*',\n",
    "            'accept-encoding': 'gzip, deflate, br, zstd',\n",
    "            'accept-language': 'ko-KR,ko;q=0.9,en-US;q=0.8,en;q=0.7',\n",
    "            'referer': 'https://m.blog.naver.com/CommentList.naver',\n",
    "            'sec-ch-ua': '\"Google Chrome\";v=\"129\", \"Not=A?Brand\";v=\"8\", \"Chromium\";v=\"129\"',\n",
    "            'sec-ch-ua-mobile': '?0',\n",
    "            'sec-ch-ua-platform': '\"Windows\"',\n",
    "            'sec-fetch-dest': 'script',\n",
    "            'sec-fetch-mode': 'no-cors',\n",
    "            'sec-fetch-site': 'same-site',\n",
    "            'user-agent': 'Mozilla/5.0 (Windows NT 10.0; Win64; x64) AppleWebKit/537.36 (KHTML, like Gecko) Chrome/129.0.0.0 Safari/537.36'\n",
    "        }\n",
    "        # Send the GET request with headers and cookies\n",
    "        cbox_response = requests.get(url, params=params, headers=headers, cookies=cookies)\n",
    "\n",
    "        # Check if the request was successful\n",
    "        cbox_response.raise_for_status()\n",
    "\n",
    "        # Extract the cbox_token\n",
    "        cbox_token = cbox_response.json()['result']['cbox_token']\n",
    "        return cbox_token\n",
    "    \n",
    "    except requests.exceptions.RequestException as e:\n",
    "        print(f\"Error fetching cbox_token: {e}\")\n",
    "        return None\n",
    "    except KeyError:\n",
    "        print(\"Error: cbox_token not found in the response\")\n",
    "        return None\n",
    "\n",
    "def _fetch_blog_no(blog_id, blog_post_id):\n",
    "    url = f'https://blog.naver.com/PostView.naver?blogId={blog_id}&logNo={blog_post_id}&redirect=Dlog&widgetTypeCall=true&noTrackingCode=true&directAccess=false'\n",
    "    \n",
    "    try:\n",
    "        res = requests.get(url)\n",
    "        res.raise_for_status()  # Check if the request was successful\n",
    "        \n",
    "        content = res.content.decode('utf-8')\n",
    "        match = re.search(r\"blogNo\\s*=\\s*'(\\d+)'\", content)\n",
    "        \n",
    "        if match:\n",
    "            return match.group(1)\n",
    "        else:\n",
    "            return \"Blog Number not found\"\n",
    "    \n",
    "    except requests.RequestException as e:\n",
    "        return f\"An error occurred: {e}\"\n",
    "\n",
    "def create_comment(cookies, blog_Num, blog_id, blog_post_id, cbox_token, comment_content):\n",
    "    try:\n",
    "        # Define the URL for creating a comment\n",
    "        url_create = \"https://apis.naver.com/commentBox/cbox/web_naver_create_json.json\"\n",
    "\n",
    "        # Define the query parameters\n",
    "        params_create = {\n",
    "            'ticket': 'blog',\n",
    "            'templateId': 'default',\n",
    "            'pool': 'blogid',\n",
    "            '_cv': '20241007144116'\n",
    "        }\n",
    "\n",
    "        # Define the headers\n",
    "        headers_create = {\n",
    "            'accept': 'application/json, text/javascript, */*; q=0.01',\n",
    "            'accept-encoding': 'gzip, deflate, br, zstd',\n",
    "            'accept-language': 'ko-KR,ko;q=0.9,en-US;q=0.8,en;q=0.7',\n",
    "            'origin': 'https://m.blog.naver.com',\n",
    "            'referer': f'https://m.blog.naver.com/CommentList.naver?blogId={blog_id}&logNo={blog_post_id}',\n",
    "            'sec-ch-ua': '\"Google Chrome\";v=\"129\", \"Not=A?Brand\";v=\"8\", \"Chromium\";v=\"129\"',\n",
    "            'sec-ch-ua-mobile': '?0',\n",
    "            'sec-ch-ua-platform': '\"Windows\"',\n",
    "            'sec-fetch-dest': 'empty',\n",
    "            'sec-fetch-mode': 'cors',\n",
    "            'sec-fetch-site': 'same-site',\n",
    "            'user-agent': 'Mozilla/5.0 (Windows NT 10.0; Win64; x64) AppleWebKit/537.36 (KHTML, like Gecko) Chrome/129.0.0.0 Safari/537.36',\n",
    "            'content-type': 'application/x-www-form-urlencoded'\n",
    "        }\n",
    "\n",
    "        # Define the POST request body data\n",
    "        \n",
    "# https://apis.naver.com/commentBox/cbox/web_naver_create_json.json?ticket=blog&templateId=default&pool=blogid&_cv=20241007144116\n",
    "        print(f'https://m.blog.naver.com/CommentList.naver?blogId={blog_id}&logNo={blog_post_id}')\n",
    "        data = {\n",
    "            'lang': 'ko',\n",
    "            'country': '',\n",
    "            'objectId': f'{blog_Num}_201_{blog_post_id}',\n",
    "            'categoryId': '',\n",
    "            'pageSize': '100',\n",
    "            'indexSize': '10',\n",
    "            'groupId': f'{blog_Num}',\n",
    "            'listType': 'OBJECT',\n",
    "            'pageType': 'more',\n",
    "            'objectUrl': f'https://m.blog.naver.com/CommentList.naver?blogId={blog_id}&logNo={blog_post_id}',\n",
    "            'contents': comment_content,\n",
    "            'userType': '',\n",
    "            'pick': 'false',\n",
    "            'manager': 'false',\n",
    "            'score': '0',\n",
    "            'sort': 'NEW',\n",
    "            'secret': 'false',\n",
    "            'refresh': 'false',\n",
    "            'imageCount': '0',\n",
    "            'commentType': 'txt',\n",
    "            'validateBanWords': 'false',\n",
    "            'cbox_token': cbox_token\n",
    "        }\n",
    "\n",
    "        # Send the POST request\n",
    "        response_create = requests.post(url_create, params=params_create, headers=headers_create, cookies=cookies, data=data)\n",
    "\n",
    "        # Check if the request was successful\n",
    "        response_create.raise_for_status()\n",
    "\n",
    "        # Print the response status and text\n",
    "        print(f\"Response status code: {response_create.status_code}\")\n",
    "        print(f\"Response text: {response_create.text}\")\n",
    "        return response_create.status_code, response_create.text\n",
    "\n",
    "    except requests.exceptions.RequestException as e:\n",
    "        print(f\"Error creating the comment: {e}\")\n",
    "        return None, None\n",
    "\n",
    "\n",
    "# Example usage\n",
    "blog_id = \"eerony\"\n",
    "blog_post_id = \"223621827803\"\n",
    "comment_content = \"저도 포스팅 잘 보고 갑니다 :) 방문해주셔서 감사합니다!\"\n",
    "\n",
    "blog_Num = _fetch_blog_no(blog_id, blog_post_id)\n",
    "cbox_token = _get_cbox_token(cookies=cookies, blog_post_id=blog_post_id)\n",
    "\n",
    "if cbox_token:\n",
    "    # Step 2: Create a comment using the token\n",
    "    status, response_text = create_comment(cookies=cookies, blog_Num=blog_Num, blog_id=blog_id, blog_post_id=blog_post_id, cbox_token=cbox_token, comment_content=comment_content)\n",
    "else:\n",
    "    print(\"Failed to retrieve cbox_token.\")"
   ]
  },
  {
   "cell_type": "code",
   "execution_count": 4,
   "metadata": {},
   "outputs": [
    {
     "data": {
      "text/plain": [
       "'DeUIGG8W8HQSsrqPW_Y9X34SXwndjzcgXGKbZcQLtrEJa413fndRL3C3MYhMQQSn_h58399ffcnh4lGedZNiXg'"
      ]
     },
     "execution_count": 4,
     "metadata": {},
     "output_type": "execute_result"
    }
   ],
   "source": [
    "cbox_token"
   ]
  },
  {
   "cell_type": "code",
   "execution_count": null,
   "metadata": {},
   "outputs": [],
   "source": []
  },
  {
   "cell_type": "code",
   "execution_count": null,
   "metadata": {},
   "outputs": [],
   "source": []
  },
  {
   "cell_type": "code",
   "execution_count": null,
   "metadata": {},
   "outputs": [],
   "source": []
  },
  {
   "cell_type": "code",
   "execution_count": null,
   "metadata": {},
   "outputs": [],
   "source": []
  }
 ],
 "metadata": {
  "kernelspec": {
   "display_name": "naver",
   "language": "python",
   "name": "python3"
  },
  "language_info": {
   "codemirror_mode": {
    "name": "ipython",
    "version": 3
   },
   "file_extension": ".py",
   "mimetype": "text/x-python",
   "name": "python",
   "nbconvert_exporter": "python",
   "pygments_lexer": "ipython3",
   "version": "3.10.14"
  }
 },
 "nbformat": 4,
 "nbformat_minor": 2
}
